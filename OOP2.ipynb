{
 "metadata": {
  "language_info": {
   "codemirror_mode": {
    "name": "ipython",
    "version": 3
   },
   "file_extension": ".py",
   "mimetype": "text/x-python",
   "name": "python",
   "nbconvert_exporter": "python",
   "pygments_lexer": "ipython3",
   "version": "3.9.2"
  },
  "orig_nbformat": 2,
  "kernelspec": {
   "name": "python392jvsc74a57bd067ff2b08a60b3c8d3383ece141b44d84ac527aa0fb2b4d51a958291ceaf46288",
   "display_name": "Python 3.9.2 64-bit"
  }
 },
 "nbformat": 4,
 "nbformat_minor": 2,
 "cells": [
  {
   "cell_type": "code",
   "execution_count": 14,
   "metadata": {},
   "outputs": [
    {
     "output_type": "stream",
     "name": "stdout",
     "text": [
      "Susana,Gold\nDudmint,Silver\nVixtor,Stone\nLeonardo,Fire\n"
     ]
    },
    {
     "output_type": "execute_result",
     "data": {
      "text/plain": [
       "False"
      ]
     },
     "metadata": {},
     "execution_count": 14
    }
   ],
   "source": [
    "class Customer:\n",
    "\n",
    "    #Cpntrustor de la clase, inicializados de atributos\n",
    "    def __init__(self, name, mebreship_type):\n",
    "        self.name = name\n",
    "        self.mebreship_type = mebreship_type\n",
    "        \n",
    "\n",
    "    #Redefine el metodo de lectura de un objeto\n",
    "    def __str__(self):\n",
    "        return f\"{self.name},{self.mebreship_type}\"\n",
    "\n",
    "    #Redefinir metodo de comportamiento\n",
    "    def __eq__(self, other):\n",
    "            if self.name == other.name and self.membership_type == other.membership_type:\n",
    "                return True\n",
    "            return False\n",
    "    \n",
    "    #Metodos de la clase, a metodos estaticos\n",
    "    def print_customers(customers):\n",
    "        for customers in customers:\n",
    "            print(customers)\n",
    "\n",
    "c1 = Customer(\"Vixtor\",\"Stone\")\n",
    "c2 = Customer(\"Leonardo\",\"Fire\")\n",
    "\n",
    "customers = [Customer(\"Susana\",\"Gold\"),Customer(\"Dudmint\",\"Silver\"),c1,c2]\n",
    "\n",
    "Customer.print_customers(customers)\n",
    "\n",
    "c1 == c2"
   ]
  },
  {
   "cell_type": "code",
   "execution_count": 11,
   "metadata": {},
   "outputs": [],
   "source": [
    "### Ejemplo de herencia"
   ]
  },
  {
   "cell_type": "code",
   "execution_count": 20,
   "metadata": {},
   "outputs": [
    {
     "output_type": "stream",
     "name": "stdout",
     "text": [
      "My name is Nestor, and I am 3 years old\nMe llamo Zolobino, y tengo 5 años\n"
     ]
    }
   ],
   "source": [
    "# DRY = Don't repeat yourself\n",
    "class Pet:\n",
    "    def describe_me(self):\n",
    "        print(f\"My name is {self.name}, and I am {self.age} years old\")\n",
    "\n",
    "\n",
    "class Cat(Pet):\n",
    "    def __init__(self, name, age):\n",
    "        self.name = name\n",
    "        self.age = age\n",
    "    \n",
    "\n",
    "class Dog(Pet):\n",
    "    def __init__(self, name, age):\n",
    "        self.name = name\n",
    "        self.age = age\n",
    "    \n",
    "# Objects Instance \n",
    "gato1 = Cat(\"Nestor\", 3)\n",
    "perro1 = Dog(\"Zolobino\", 5)\n",
    "\n",
    "# Execute inherited method\n",
    "gato1.describe_me()\n",
    "perro1.describe_me()"
   ]
  },
  {
   "cell_type": "code",
   "execution_count": 21,
   "metadata": {},
   "outputs": [],
   "source": [
    "### Polimorfismo"
   ]
  },
  {
   "cell_type": "code",
   "execution_count": 1,
   "metadata": {},
   "outputs": [
    {
     "output_type": "stream",
     "name": "stdout",
     "text": [
      "I make a noise\nMiau\nGuagua\nAll pets spoke\n"
     ]
    }
   ],
   "source": [
    "class Pet:\n",
    "    def describe_me(self):\n",
    "        print(f\"My name is {self.name}, and I am {self.age} years old\")\n",
    "    \n",
    "    def speak(self):\n",
    "        print(\"I make a noise\")\n",
    "\n",
    "class Fish(Pet):\n",
    "    pass\n",
    "        \n",
    "class Cat(Pet):\n",
    "    def __init__(self, name, age):\n",
    "        self.name = name\n",
    "        self.age = age\n",
    "    \n",
    "    def speak(self):\n",
    "        print(\"Miau\")\n",
    "\n",
    "class Dog(Pet):\n",
    "    def __init__(self, name, age):\n",
    "        self.name = name\n",
    "        self.age = age\n",
    "        \n",
    "    def speak(self):\n",
    "        print(\"Guagua\")\n",
    "\n",
    "pets = [Fish(),Cat(\"Rodolfo\",12),Dog(\"Benito\",3)]\n",
    "        \n",
    "# Polimorphism\n",
    "def all_loud(pets):\n",
    "    for pet in pets:\n",
    "        pet.speak()\n",
    "    return \"All pets spoke\"\n",
    "    \n",
    "print(all_loud(pets))"
   ]
  },
  {
   "cell_type": "code",
   "execution_count": null,
   "metadata": {},
   "outputs": [],
   "source": []
  }
 ]
}