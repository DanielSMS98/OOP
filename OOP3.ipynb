{
 "metadata": {
  "language_info": {
   "codemirror_mode": {
    "name": "ipython",
    "version": 3
   },
   "file_extension": ".py",
   "mimetype": "text/x-python",
   "name": "python",
   "nbconvert_exporter": "python",
   "pygments_lexer": "ipython3",
   "version": "3.9.2"
  },
  "orig_nbformat": 2,
  "kernelspec": {
   "name": "python392jvsc74a57bd067ff2b08a60b3c8d3383ece141b44d84ac527aa0fb2b4d51a958291ceaf46288",
   "display_name": "Python 3.9.2 64-bit"
  }
 },
 "nbformat": 4,
 "nbformat_minor": 2,
 "cells": [
  {
   "cell_type": "code",
   "execution_count": 2,
   "metadata": {},
   "outputs": [
    {
     "output_type": "stream",
     "name": "stdout",
     "text": [
      "Libro: La guerra de los mundos,\nISB: EFE-54,\nPaginas: 154\n\n\nLibro: ESO,\nISB: EFE-54,\nPaginas: 895\n\n\n"
     ]
    }
   ],
   "source": [
    "class biblioteca:\n",
    "    \n",
    "    def __init__(self, libro, isb, paginas):\n",
    "       self.libro = libro\n",
    "       self.isb = isb\n",
    "       self.paginas = paginas\n",
    "    \n",
    "    def description_book(self):\n",
    "        print(f\"Libro: {self.libro},\\nISB: {self.isb},\\nPaginas: {self.paginas}\\n\\n\")\n",
    "\n",
    "\n",
    "class Libros_ciencia_ficcion(biblioteca):\n",
    "    def __init__(self, libro, isb, paginas):\n",
    "       self.libro = libro\n",
    "       self.isb = isb\n",
    "       self.paginas = paginas\n",
    "\n",
    "class Libros_terror(biblioteca):\n",
    "    def __init__(self, libro, isb, paginas):\n",
    "       self.libro = libro\n",
    "       self.isb = isb\n",
    "       self.paginas = paginas\n",
    "\n",
    "libro1 = Libros_ciencia_ficcion (\"La guerra de los mundos\",\"EFE-54\",154)    \n",
    "libro2 = Libros_terror (\"ESO\",\"EFE-54\",895)\n",
    "\n",
    "libro1.description_book()\n",
    "libro2.description_book()"
   ]
  },
  {
   "cell_type": "code",
   "execution_count": null,
   "metadata": {},
   "outputs": [],
   "source": []
  }
 ]
}