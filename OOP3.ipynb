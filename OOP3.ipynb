{
 "metadata": {
  "language_info": {
   "codemirror_mode": {
    "name": "ipython",
    "version": 3
   },
   "file_extension": ".py",
   "mimetype": "text/x-python",
   "name": "python",
   "nbconvert_exporter": "python",
   "pygments_lexer": "ipython3",
   "version": "3.9.2"
  },
  "orig_nbformat": 2,
  "kernelspec": {
   "name": "python392jvsc74a57bd067ff2b08a60b3c8d3383ece141b44d84ac527aa0fb2b4d51a958291ceaf46288",
   "display_name": "Python 3.9.2 64-bit"
  }
 },
 "nbformat": 4,
 "nbformat_minor": 2,
 "cells": [
  {
   "cell_type": "code",
   "execution_count": 11,
   "metadata": {},
   "outputs": [
    {
     "output_type": "stream",
     "name": "stdout",
     "text": [
      "Libro: La guerra de los mundos\nISB: EFE-54\nPaginas: 154\n\n\nLibro: ESO\nISB: EFE-54\nPaginas: 895\n\n\nLibro: La caida de atlas\nISB: WEF-898\nPaginas: 599\n\n\nLibro: El gato negro\nISB: EFV-VR89\nPaginas: 199\n\n\nLibro: Yo robot\nISB: EEE-584\nPaginas: 354\n\n\nLibro: Azteca\nISB: JFD-497\nPaginas: 1095\n\n\nFin de lista de libros\n"
     ]
    }
   ],
   "source": [
    "class biblioteca:\n",
    "    \n",
    "    def __init__(self, libro, isb, paginas):\n",
    "       self.libro = libro\n",
    "       self.isb = isb\n",
    "       self.paginas = paginas\n",
    "    \n",
    "    def description_book(self):\n",
    "        print(f\"Libro: {self.libro}\\nISB: {self.isb}\\nPaginas: {self.paginas}\\n\\n\")\n",
    "\n",
    "    def nuevo_libro(self):\n",
    "        pass\n",
    "\n",
    "\n",
    "class Libros_ciencia_ficcion(biblioteca):\n",
    "    def __init__(self, libro, isb, paginas):\n",
    "       self.libro = libro\n",
    "       self.isb = isb\n",
    "       self.paginas = paginas\n",
    "\n",
    "    def nuevo_libro(self):\n",
    "        l = \"La caida de atlas\"\n",
    "        i = \"WEF-898\"\n",
    "        p = 599\n",
    "        self.libro = l\n",
    "        self.isb = i\n",
    "        self.paginas = p\n",
    "\n",
    "class Libros_terror(biblioteca):\n",
    "    def __init__(self, libro, isb, paginas):\n",
    "       self.libro = libro\n",
    "       self.isb = isb\n",
    "       self.paginas = paginas\n",
    "    \n",
    "    def nuevo_libro(self):\n",
    "        l = \"El gato negro\"\n",
    "        i = \"EFV-VR89\"\n",
    "        p = 199\n",
    "        self.libro = l\n",
    "        self.isb = i\n",
    "        self.paginas = p\n",
    "\n",
    "libro1 = Libros_ciencia_ficcion (\"La guerra de los mundos\",\"EFE-54\",154)    \n",
    "libro2 = Libros_terror (\"ESO\",\"EFE-54\",895)\n",
    "\n",
    "libro1.description_book()\n",
    "libro2.description_book()\n",
    "\n",
    "libro1.nuevo_libro()\n",
    "libro2.nuevo_libro()\n",
    "\n",
    "libro1.description_book()\n",
    "libro2.description_book()\n",
    "\n",
    "libros = [Libros_ciencia_ficcion (\"Yo robot\",\"EEE-584\",354),Libros_terror (\"Azteca\",\"JFD-497\",1095)]\n",
    "\n",
    "def all_loud(libros):\n",
    "    for biblioteca in libros:\n",
    "        biblioteca.description_book()\n",
    "    return \"Fin de lista de libros\"\n",
    "\n",
    "print(all_loud(libros))"
   ]
  },
  {
   "cell_type": "code",
   "execution_count": null,
   "metadata": {},
   "outputs": [],
   "source": []
  }
 ]
}