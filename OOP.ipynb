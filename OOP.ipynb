{
 "metadata": {
  "language_info": {
   "codemirror_mode": {
    "name": "ipython",
    "version": 3
   },
   "file_extension": ".py",
   "mimetype": "text/x-python",
   "name": "python",
   "nbconvert_exporter": "python",
   "pygments_lexer": "ipython3",
   "version": "3.9.2-final"
  },
  "orig_nbformat": 2,
  "kernelspec": {
   "name": "python392jvsc74a57bd067ff2b08a60b3c8d3383ece141b44d84ac527aa0fb2b4d51a958291ceaf46288",
   "display_name": "Python 3.9.2 64-bit"
  }
 },
 "nbformat": 4,
 "nbformat_minor": 2,
 "cells": [
  {
   "cell_type": "code",
   "execution_count": 1,
   "metadata": {},
   "outputs": [],
   "source": [
    "###Object Oriented Programming in PYTHON    "
   ]
  },
  {
   "cell_type": "code",
   "execution_count": 2,
   "metadata": {},
   "outputs": [
    {
     "output_type": "execute_result",
     "data": {
      "text/plain": [
       "str"
      ]
     },
     "metadata": {},
     "execution_count": 2
    }
   ],
   "source": [
    "string = \"Hola Mundo\"\n",
    "string.upper()\n",
    "type(string)"
   ]
  },
  {
   "cell_type": "code",
   "execution_count": 4,
   "metadata": {},
   "outputs": [
    {
     "output_type": "error",
     "ename": "IndentationError",
     "evalue": "unexpected indent (<ipython-input-4-a53f3587d2b3>, line 10)",
     "traceback": [
      "\u001b[1;36m  File \u001b[1;32m\"<ipython-input-4-a53f3587d2b3>\"\u001b[1;36m, line \u001b[1;32m10\u001b[0m\n\u001b[1;33m    def print_name(self):\u001b[0m\n\u001b[1;37m    ^\u001b[0m\n\u001b[1;31mIndentationError\u001b[0m\u001b[1;31m:\u001b[0m unexpected indent\n"
     ]
    }
   ],
   "source": [
    "class Dog:\n",
    "    \n",
    "    def _init_ (self, name, age):\n",
    "        self.name = name\n",
    "        self.age = age\n",
    "\n",
    "chihuahua = Dog(\"Firulais\",7)\n",
    "pug = Dog(\"Peluchin\",2)\n",
    "\n",
    "    def print_name(self):\n",
    "        print(f\"Creastes un perro y se llama {self.name}\")\n",
    "\n",
    "chihuahua.print_name()\n",
    "pug.print_name()"
   ]
  },
  {
   "cell_type": "code",
   "execution_count": null,
   "metadata": {},
   "outputs": [],
   "source": [
    "class Studen:\n",
    "    def _init_(self, name, age, grade):\n",
    "        self.name = name\n",
    "        self.age = age\n",
    "        self.grade = grade\n",
    "    \n",
    "    def get_grade(self):\n",
    "        return self.grade\n",
    "    \n",
    "class Course:\n",
    "    \n",
    "    def _init_(self, name, max_student, students, is_active):\n",
    "        self.name = name\n",
    "        self.max_student = max_student\n",
    "        self.students = []\n",
    "        self.is_active = False\n",
    "\n",
    "    def add_student(self, student):\n",
    "        if len(self.students) < self.max_student:\n",
    "            self.student.append(student)\n",
    "            return"
   ]
  },
  {
   "cell_type": "code",
   "execution_count": null,
   "metadata": {},
   "outputs": [],
   "source": []
  }
 ]
}